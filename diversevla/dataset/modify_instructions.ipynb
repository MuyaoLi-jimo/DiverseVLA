{
 "cells": [
  {
   "cell_type": "code",
   "execution_count": 19,
   "id": "df12438d",
   "metadata": {},
   "outputs": [],
   "source": [
    "from parallel_api_call import *\n",
    "\n",
    "raw_path = \"./libero/libero/\"\n",
    "output_path = \"./output/\"\n",
    "raw_jsons = [\"libero_10.json\", \"libero_goal.json\", \"libero_object.json\", \"libero_spatial.json\"]"
   ]
  },
  {
   "cell_type": "code",
   "execution_count": 17,
   "id": "5b960856",
   "metadata": {},
   "outputs": [],
   "source": [
    "SYS_PROMPT=\"You are a helpful assistant.\"\n",
    "\n",
    "\n",
    "ONE_PROMPT = \"\"\"\n",
    "Please generate 3 different revised versions of the sentence below. Each time select **one** verb, noun, or adjective from the sentence below at random and replace it with a synonym or a similar word, ensuring that the overall meaning of the sentence remains unchanged.\n",
    "SENTENCE: {sentence}\n",
    "OUTPUT FORMAT (JSON):\n",
    "{{\n",
    "    \"RAW\": (a string), copy of the input sentence,\n",
    "    \"REVISED\": [\n",
    "        (a list of strings), 3 different revised versions\n",
    "    ]\n",
    "}}\n",
    "\"\"\"\n",
    "\n",
    "TWO_PROMPT = \"\"\"\n",
    "Please generate 3 different revised versions of the sentence below. Each time choose either **two random words** (a verb, noun, or adjective) or **one phrase** in the sentence below and replace them with similar expressions, while keeping the sentence’s overall meaning intact.\n",
    "SENTENCE: {sentence}\n",
    "OUTPUT FORMAT (JSON):\n",
    "{{\n",
    "    \"RAW\": (a string), copy of the input sentence,\n",
    "    \"REVISED\": [\n",
    "        (a list of strings), 3 different revised versions\n",
    "    ]\n",
    "}}\n",
    "\"\"\"\n",
    "\n",
    "ALL_PROMPT = \"\"\"\n",
    "Please generate 3 different revised versions of the sentence below. Each time rewrite the entire sentence with significant changes in structure and wording, while ensuring that the overall meaning remains the same. you can change like: please xxx? or OpenVLA, can you xxx?\n",
    "SENTENCE: {sentence}\n",
    "OUTPUT FORMAT (JSON):\n",
    "{{\n",
    "    \"RAW\": (a string), copy of the input sentence,\n",
    "    \"REVISED\": [\n",
    "        (a list of strings), 3 different revised versions\n",
    "    ]\n",
    "}}\n",
    "\"\"\"\n",
    "\n",
    "PROMPT_MAP={\n",
    "    \"one\":ONE_PROMPT,\n",
    "    \"two\":TWO_PROMPT,\n",
    "    \"all\": ALL_PROMPT,\n",
    "}"
   ]
  },
  {
   "cell_type": "code",
   "execution_count": 14,
   "id": "245c90c5",
   "metadata": {},
   "outputs": [],
   "source": [
    "raw_data = {}\n",
    "for json_name in raw_jsons:\n",
    "    with open(f\"{raw_path}{json_name}\", \"r\") as f:\n",
    "        obj = json.load(f)\n",
    "        inss = obj.keys()\n",
    "        raw_data[json_name] = list(inss)"
   ]
  },
  {
   "cell_type": "code",
   "execution_count": 20,
   "id": "16d75829",
   "metadata": {},
   "outputs": [],
   "source": [
    "for mode in PROMPT_MAP.keys():\n",
    "    prompt = PROMPT_MAP[mode]\n",
    "    for json_name in raw_jsons:\n",
    "        inputs = [prompt.format(sentence = ins) for ins in raw_data[json_name]]\n",
    "        responses = await async_process_queries(SYS_PROMPT, inputs, temperature=0.5, top_p=0.9)\n",
    "        converted = [str_to_json(response) for response in responses]\n",
    "        # 检查转换\n",
    "        failidxs = []\n",
    "        for idx, obj in enumerate(converted):\n",
    "            if obj is None:\n",
    "                failidxs.append(idx)\n",
    "        # 重新请求\n",
    "        if len(failidxs) >0:\n",
    "            print(\"request again\")\n",
    "            converted = [None for _ in range(len(failidxs))]\n",
    "            while None in converted:\n",
    "                responses = await async_process_queries(SYS_PROMPT, inputs, temperature=0.5, top_p=0.9)\n",
    "            converted = [str_to_json(response) for response in responses]\n",
    "        # 保存\n",
    "        tuples = [(raw_data[json_name][i], converted[i][\"REVISED\"]) for i in range(len(inputs))]\n",
    "        save_dict = {k:v for k,v in tuples}\n",
    "        with open(f\"{output_path}{mode}_{json_name}\", \"w\") as f:\n",
    "            json.dump(save_dict, f, indent=4)\n"
   ]
  }
 ],
 "metadata": {
  "kernelspec": {
   "display_name": "py312",
   "language": "python",
   "name": "python3"
  },
  "language_info": {
   "codemirror_mode": {
    "name": "ipython",
    "version": 3
   },
   "file_extension": ".py",
   "mimetype": "text/x-python",
   "name": "python",
   "nbconvert_exporter": "python",
   "pygments_lexer": "ipython3",
   "version": "3.12.9"
  }
 },
 "nbformat": 4,
 "nbformat_minor": 5
}
